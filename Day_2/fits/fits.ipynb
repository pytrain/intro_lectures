{
 "cells": [
  {
   "cell_type": "markdown",
   "metadata": {},
   "source": [
    "![NASA](http://www.nasa.gov/sites/all/themes/custom/nasatwo/images/nasa-logo.svg)\n",
    "\n",
    "<center><h1><font size=\\\"+3\\\">GSFC Introductory Python Training</font></h1></center>"
   ]
  },
  {
   "cell_type": "markdown",
   "metadata": {},
   "source": [
    "# FITS Imagery Files\n",
    "\n",
    "---\n",
    "\n",
    "FITS (Flexible Image Transport System) files contains imagery and the metadata associated with the imagery contained. FITS is a standard data format used within astronomy and is endorsed by [GSFC NASA](http://fits.gsfc.nasa.gov) and the IAU (International Astronomical Union).\n",
    "\n",
    "Most FITS files when opened in a browser show a header of ASCII (human readible) giving details of the data contained within the file."
   ]
  },
  {
   "cell_type": "markdown",
   "metadata": {},
   "source": [
    "> Sample Files:\n",
    "> \n",
    "> There are samples within the package AstroPy and some distributed online through GSFC. [Here](http://fits.gsfc.nasa.gov/fits_samples.html) is a link to those samples provided by GSFC._"
   ]
  },
  {
   "cell_type": "markdown",
   "metadata": {},
   "source": [
    "### Reading a FITS File: Crab Nebula and Pulsar"
   ]
  },
  {
   "cell_type": "code",
   "execution_count": null,
   "metadata": {},
   "outputs": [],
   "source": [
    "from astropy.utils.data import get_pkg_data_filename\n",
    "from astropy.io import fits\n",
    "\n",
    "# FITS sample file used from Chandra X-Ray Observatory:\n",
    "# http://chandra.harvard.edu/photo/2009/crab/fits/crab.fits\n",
    "image_file = fits.open('crab.fits')"
   ]
  },
  {
   "cell_type": "markdown",
   "metadata": {},
   "source": [
    "Our image file contains headers and data combined. Let's look at the header information first."
   ]
  },
  {
   "cell_type": "markdown",
   "metadata": {},
   "source": [
    "### FITS Headers"
   ]
  },
  {
   "cell_type": "code",
   "execution_count": null,
   "metadata": {},
   "outputs": [],
   "source": [
    "image_file[0].header"
   ]
  },
  {
   "cell_type": "code",
   "execution_count": null,
   "metadata": {},
   "outputs": [],
   "source": [
    "image_file.info()"
   ]
  },
  {
   "cell_type": "code",
   "execution_count": null,
   "metadata": {},
   "outputs": [],
   "source": [
    "image_data = image_file[0].data"
   ]
  },
  {
   "cell_type": "markdown",
   "metadata": {},
   "source": [
    "### Plotting with AstroPy"
   ]
  },
  {
   "cell_type": "code",
   "execution_count": null,
   "metadata": {},
   "outputs": [],
   "source": [
    "import matplotlib.pyplot as plt\n",
    "from astropy.visualization import astropy_mpl_style\n",
    "plt.style.use(astropy_mpl_style)\n",
    "\n",
    "plt.figure(figsize=(20,10))\n",
    "plt.imshow(image_data, cmap='gray')\n",
    "plt.colorbar()"
   ]
  },
  {
   "cell_type": "code",
   "execution_count": null,
   "metadata": {},
   "outputs": [],
   "source": [
    "plt.figure(figsize=(20,10))\n",
    "plt.imshow(image_data, cmap='plasma')\n",
    "plt.colorbar()"
   ]
  },
  {
   "cell_type": "markdown",
   "metadata": {},
   "source": [
    "__Note:__ AstroPy is already available within Anaconda!"
   ]
  },
  {
   "cell_type": "markdown",
   "metadata": {},
   "source": [
    "Resources:\n",
    "* AstroPy: [http://docs.astropy.org](http://docs.astropy.org)\n",
    "  * Recommended Page: [http://docs.astropy.org/en/stable/io/fits/](http://docs.astropy.org/en/stable/io/fits/)\n",
    "* [Sloan Digital Sky Survey](http://www.sdss.org)\n",
    "* [Python4Astronomers](http://python4astronomers.github.io/astropy/fits.html)\n",
    "* [PyFITS](http://pythonhosted.org/pyfits/)\n",
    "* [fitsio @ NASA](http://heasarc.gsfc.nasa.gov/fitsio/)"
   ]
  },
  {
   "cell_type": "markdown",
   "metadata": {},
   "source": [
    "### Horse Head Nebula"
   ]
  },
  {
   "cell_type": "markdown",
   "metadata": {},
   "source": [
    "This code that follows is from the tutorial from AstroPy using the supplied FITS file for the Horse Head Nebula. Here is the source of this code tutorial: [http://docs.astropy.org/en/stable/generated/examples/io/plot_fits-image.html](http://docs.astropy.org/en/stable/generated/examples/io/plot_fits-image.html)"
   ]
  },
  {
   "cell_type": "code",
   "execution_count": null,
   "metadata": {},
   "outputs": [],
   "source": [
    "import matplotlib.pyplot as plt\n",
    "from astropy.visualization import astropy_mpl_style\n",
    "plt.style.use(astropy_mpl_style)"
   ]
  },
  {
   "cell_type": "code",
   "execution_count": null,
   "metadata": {},
   "outputs": [],
   "source": [
    "from astropy.utils.data import get_pkg_data_filename\n",
    "from astropy.io import fits\n",
    "\n",
    "image_file = get_pkg_data_filename('tutorials/FITS-images/HorseHead.fits')"
   ]
  },
  {
   "cell_type": "code",
   "execution_count": null,
   "metadata": {},
   "outputs": [],
   "source": [
    "fits.info(image_file)"
   ]
  },
  {
   "cell_type": "code",
   "execution_count": null,
   "metadata": {},
   "outputs": [],
   "source": [
    "image_data = fits.getdata(image_file, ext=0)"
   ]
  },
  {
   "cell_type": "code",
   "execution_count": null,
   "metadata": {},
   "outputs": [],
   "source": [
    "print(image_data.shape)"
   ]
  },
  {
   "cell_type": "code",
   "execution_count": null,
   "metadata": {},
   "outputs": [],
   "source": [
    "plt.figure(figsize=(20,10))\n",
    "plt.imshow(image_data, cmap='gray')\n",
    "plt.colorbar()"
   ]
  }
 ],
 "metadata": {
  "kernelspec": {
   "display_name": "Python 3",
   "language": "python",
   "name": "python3"
  },
  "language_info": {
   "codemirror_mode": {
    "name": "ipython",
    "version": 3
   },
   "file_extension": ".py",
   "mimetype": "text/x-python",
   "name": "python",
   "nbconvert_exporter": "python",
   "pygments_lexer": "ipython3",
   "version": "3.7.3"
  }
 },
 "nbformat": 4,
 "nbformat_minor": 2
}
