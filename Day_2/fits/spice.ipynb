{
 "cells": [
  {
   "cell_type": "markdown",
   "metadata": {},
   "source": [
    "# SpicePy: Observation Geometry for Space Science\n",
    "\n",
    "---\n",
    "\n",
    "[SPICEPy](http://github.com/AndrewAnnex/SpiceyPy) is a Python wrapper around the C-based [NAIF](http://naif.jpl.nasa.gov/naif/about.html) [SPICE](http://naif.jpl.nasa.gov/naif/spiceconcept.html) Toolkit which aids in computing observations from space-borne instruments."
   ]
  },
  {
   "cell_type": "markdown",
   "metadata": {},
   "source": [
    "Data file types used (kernels):\n",
    "* FK - Frames Kernal for reference frames\n",
    "* SCLK - Spacecraft Clock Kernel\n",
    "* LSK - Leap Seconds Clock Kernel\n",
    "* DSK - Digital Shape Model Kernel for irregularly/regularly shaped bodies"
   ]
  },
  {
   "cell_type": "markdown",
   "metadata": {},
   "source": [
    "### Obtaining the Software\n",
    "\n",
    "---\n",
    "\n",
    "With Anaconda, one will need to run the following command in order to obtain SpiceyPy from the command line (after ensuring you are running Anaconda) or from the Anaconda Prompt:\n",
    "\n",
    "```bash\n",
    "conda config --add channels conda-forge\n",
    "conda install spiceypy\n",
    "```\n",
    "\n",
    "__Note:__ You will need to restart the Jupyter Notebook or exit from the notebook server in order for the running environment to \"see\" the new package installed."
   ]
  },
  {
   "cell_type": "markdown",
   "metadata": {},
   "source": [
    "### Working through the Cassini Example\n",
    "\n",
    "---\n",
    "\n",
    "Due to unfamiliarty of this software, we are just going to step through the provided [online example](http://spiceypy.readthedocs.io/en/master/exampleone.html) to see the position of the spacecraft relative to the barycenter (COM between two bodies) of Saturn."
   ]
  },
  {
   "cell_type": "code",
   "execution_count": null,
   "metadata": {},
   "outputs": [],
   "source": [
    "import numpy as np\n",
    "%matplotlib inline\n",
    "import matplotlib.pyplot as plt\n",
    "from mpl_toolkits.mplot3d import Axes3D\n",
    "import spiceypy as spice"
   ]
  },
  {
   "cell_type": "code",
   "execution_count": null,
   "metadata": {},
   "outputs": [],
   "source": [
    "# Print out the toolkit version\n",
    "spice.tkvrsn(\"TOOLKIT\")"
   ]
  },
  {
   "cell_type": "markdown",
   "metadata": {},
   "source": [
    "__Obtaining Anscillary Kernel Files__\n",
    "\n",
    "In order to use SpicePy, we need to download some kernels that aid in the calculations. We can do this easily enough in Python as well."
   ]
  },
  {
   "cell_type": "code",
   "execution_count": null,
   "metadata": {},
   "outputs": [],
   "source": [
    "import os\n",
    "from requests import get\n",
    "\n",
    "files = [\n",
    "    'https://naif.jpl.nasa.gov/pub/naif/generic_kernels/lsk/a_old_versions/naif0009.tls',\n",
    "    'https://naif.jpl.nasa.gov/pub/naif/CASSINI/kernels/sclk/cas00084.tsc',\n",
    "    'https://naif.jpl.nasa.gov/pub/naif/CASSINI/kernels/pck/cpck05Mar2004.tpc',\n",
    "    'https://naif.jpl.nasa.gov/pub/naif/CASSINI/kernels/fk/release.11/cas_v37.tf',\n",
    "    'https://naif.jpl.nasa.gov/pub/naif/CASSINI/kernels/ck/04135_04171pc_psiv2.bc',\n",
    "    'https://naif.jpl.nasa.gov/pub/naif/CASSINI/kernels/spk/030201AP_SK_SM546_T45.bsp',\n",
    "    'https://naif.jpl.nasa.gov/pub/naif/CASSINI/kernels/ik/release.11/cas_iss_v09.ti',\n",
    "    'https://naif.jpl.nasa.gov/pub/naif/CASSINI/kernels/spk/020514_SE_SAT105.bsp',\n",
    "    'https://naif.jpl.nasa.gov/pub/naif/CASSINI/kernels/spk/981005_PLTEPH-DE405S.bsp',\n",
    "]\n",
    "\n",
    "for url in files:\n",
    "    file_name = os.path.join(os.getcwd(), url.split('/')[-1])\n",
    "    with open(file_name, 'wb') as f:\n",
    "        r = get(url)\n",
    "        f.write(r.content)\n",
    "    print('Download successful for ' + url)"
   ]
  },
  {
   "cell_type": "markdown",
   "metadata": {},
   "source": [
    "We also have to furnish a metakernel (ASCII file) containing the filenames that we downloaded. We can easily do that also in Python:"
   ]
  },
  {
   "cell_type": "code",
   "execution_count": null,
   "metadata": {},
   "outputs": [],
   "source": [
    "metakernel = os.path.join(os.getcwd(), 'cassMetaK.txt')\n",
    "\n",
    "with open(metakernel, 'w') as f:\n",
    "    f.write('''\\\\begindata\n",
    "KERNELS_TO_LOAD=(\\n''')\n",
    "\n",
    "for url in files[:-1]:\n",
    "    file_name = url.split('/')[-1]\n",
    "    with open(metakernel, 'a') as f:\n",
    "        f.write(\"\\t'\" + file_name + \"',\\n\")\n",
    "\n",
    "with open(metakernel, 'a') as f:\n",
    "    f.write(\"\\t'\" + files[-1].split('/')[-1] + \"\"\"')\n",
    "\\\\begintext\"\"\")"
   ]
  },
  {
   "cell_type": "code",
   "execution_count": null,
   "metadata": {},
   "outputs": [],
   "source": [
    "spice.furnsh(metakernel)"
   ]
  },
  {
   "cell_type": "markdown",
   "metadata": {},
   "source": [
    "Obtain the positions of the spacecraft between two dates and then we can calculate a vector between the two points in Ephemeris Time (ET)."
   ]
  },
  {
   "cell_type": "code",
   "execution_count": null,
   "metadata": {},
   "outputs": [],
   "source": [
    "step = 4000\n",
    "# we are going to get positions between these two dates\n",
    "utc = ['Jun 20, 2004', 'Dec 1, 2005']\n",
    "\n",
    "# get et values one and two, we could vectorize str2et\n",
    "etOne = spice.str2et(utc[0])\n",
    "etTwo = spice.str2et(utc[1])\n",
    "print(\"ET One: {}, ET Two: {}\".format(etOne, etTwo))"
   ]
  },
  {
   "cell_type": "markdown",
   "metadata": {},
   "source": [
    "We then obtain a list of all time steps between the two dates."
   ]
  },
  {
   "cell_type": "code",
   "execution_count": null,
   "metadata": {},
   "outputs": [],
   "source": [
    "# get times\n",
    "times = [x*(etTwo-etOne)/step + etOne for x in range(step)]\n",
    "\n",
    "# check first few times:\n",
    "print(times[0:3])"
   ]
  },
  {
   "cell_type": "code",
   "execution_count": null,
   "metadata": {},
   "outputs": [],
   "source": [
    "# check the documentation on spkpos before continueing\n",
    "help(spice.spkpos)"
   ]
  },
  {
   "cell_type": "markdown",
   "metadata": {},
   "source": [
    "Get the positions and times of the spacecraft in relation to the Saturn Barycenter."
   ]
  },
  {
   "cell_type": "code",
   "execution_count": null,
   "metadata": {},
   "outputs": [],
   "source": [
    "#Run spkpos as a vectorized function\n",
    "positions, lightTimes = spice.spkpos('Cassini', times, 'J2000', 'NONE', 'SATURN BARYCENTER')\n",
    "\n",
    "# Positions is a 3xN vector of XYZ positions\n",
    "print(\"Positions: \")\n",
    "print(positions[0])\n",
    "\n",
    "# Light times is a N vector of time\n",
    "print(\"Light Times: \")\n",
    "print(lightTimes[0])"
   ]
  },
  {
   "cell_type": "markdown",
   "metadata": {},
   "source": [
    "Clear the kernels (reseting the system for reuse) and then visualize the trajectory of the spacecraft."
   ]
  },
  {
   "cell_type": "code",
   "execution_count": null,
   "metadata": {},
   "outputs": [],
   "source": [
    "# Clean up the kernels\n",
    "spice.kclear()"
   ]
  },
  {
   "cell_type": "code",
   "execution_count": null,
   "metadata": {},
   "outputs": [],
   "source": [
    "positions = np.asarray(positions).T # positions is a list, make it an ndarray for easier indexing\n",
    "fig = plt.figure(figsize=(9, 9))\n",
    "ax  = fig.add_subplot(111, projection='3d')\n",
    "ax.plot(positions[0], positions[1], positions[2])\n",
    "plt.title('SpiceyPy Cassini Position Example from Jun 20, 2004 to Dec 1, 2005')\n",
    "plt.show()"
   ]
  }
 ],
 "metadata": {
  "kernelspec": {
   "display_name": "Python 3",
   "language": "python",
   "name": "python3"
  },
  "language_info": {
   "codemirror_mode": {
    "name": "ipython",
    "version": 3
   },
   "file_extension": ".py",
   "mimetype": "text/x-python",
   "name": "python",
   "nbconvert_exporter": "python",
   "pygments_lexer": "ipython3",
   "version": "3.7.3"
  }
 },
 "nbformat": 4,
 "nbformat_minor": 2
}
